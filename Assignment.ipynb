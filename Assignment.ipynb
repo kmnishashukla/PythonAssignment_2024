{
 "cells": [
  {
   "cell_type": "code",
   "execution_count": 3,
   "metadata": {},
   "outputs": [
    {
     "name": "stdout",
     "output_type": "stream",
     "text": [
      "Bill Details\n",
      "No of pizzas: 1\n",
      "No of puffs: 2\n",
      "No of cooldrinks: 3\n",
      "Total price= 170\n"
     ]
    }
   ],
   "source": [
    "# Assignment\n",
    "# Q1.Vohra went to a movie with his friends in a Wave theater and during break time he bought pizzas, puffs and cool drinks. Consider the following prices : Rs.100/pizza Rs.20/puffs Rs.10/cooldrink Generate a bill for What Vohra has bought. \n",
    "# Input: Enter the no of pizzas bought:10 Enter the no of puffs bought:12 Enter the no of cool drinks bought:5\n",
    "# Output : Bill Details No of pizzas:10 No of puffs:12 No of cooldrinks:5 Total price=1290\n",
    "\n",
    "def generate_bill(pizzas, puffs, drinks):\n",
    "    items = ['pizza', 'puff', 'drink']\n",
    "    prices = [100, 20, 10]\n",
    "\n",
    "    total_price = sum([p * q for p, q in zip([pizzas, puffs, drinks], prices)])\n",
    "\n",
    "    return total_price\n",
    "\n",
    "pizzas = int(input(\"Enter the no of pizzas bought: \"))\n",
    "puffs = int(input(\"Enter the no of puffs bought: \"))\n",
    "drinks = int(input(\"Enter the no of cool drinks bought: \"))\n",
    "\n",
    "total_price = generate_bill(pizzas, puffs, drinks)\n",
    "print(\"Bill Details\")\n",
    "print(\"No of pizzas:\", pizzas)\n",
    "print(\"No of puffs:\", puffs)\n",
    "print(\"No of cooldrinks:\", drinks)\n",
    "print(\"Total price=\", total_price)"
   ]
  },
  {
   "cell_type": "code",
   "execution_count": 4,
   "metadata": {},
   "outputs": [
    {
     "name": "stdout",
     "output_type": "stream",
     "text": [
      "Total steps taken: 1\n"
     ]
    }
   ],
   "source": [
    "# Q2. To calculate the total number of steps taken to climb a certain number of stairs.\n",
    "# The user is prompted to input the total number of stairs (m) and the number of stairs\n",
    "# covered in each step (n).\n",
    "# Example:-\n",
    "# Enter the number of stairs:13\n",
    "# Enter the number of steps:2\n",
    "# Total steps taken:7\n",
    "\n",
    "def total_steps(stairs, steps_per_step):\n",
    "    if stairs <= 0:\n",
    "        return 0\n",
    "    return 1 + total_steps(stairs - steps_per_step, steps_per_step)\n",
    "\n",
    "stairs = int(input(\"Enter the number of stairs: \"))\n",
    "steps_per_step = int(input(\"Enter the number of steps: \"))\n",
    "\n",
    "total = total_steps(stairs, steps_per_step)\n",
    "print(\"Total steps taken:\", total)\n",
    "\n"
   ]
  },
  {
   "cell_type": "markdown",
   "metadata": {},
   "source": [
    "Q8. Given a sequence of numbers. Find all leaders in the sequence. An element is called a leader if it is strictly greater than all elements to its right side. Input arr[] = {23, 22, 24,8 9, 10} Output 10, 24\n"
   ]
  },
  {
   "cell_type": "code",
   "execution_count": 5,
   "metadata": {},
   "outputs": [
    {
     "name": "stdout",
     "output_type": "stream",
     "text": [
      "Output: [24, 10]\n"
     ]
    }
   ],
   "source": [
    "\n",
    "def given_leaders_no(arr):\n",
    "    return [arr[i] for i in range(len(arr)) if arr[i] == max(arr[i:])]\n",
    "\n",
    "arr = [23, 22, 24, 8, 9, 10]\n",
    "result = given_leaders_no(arr)\n",
    "print(\"All Leader:\", result)"
   ]
  },
  {
   "cell_type": "markdown",
   "metadata": {},
   "source": [
    "Q9.Given two strings. Check whether both the strings are anagrams of each other or not.[Anagram strings are those strings that have the same characters, only the order of characters may be different ] Input str1 = 'coding', str2 = 'ingodc' str1 = 'hello' , str2 = 'hoeli' Output \"Yes\" \"No\"\n"
   ]
  },
  {
   "cell_type": "code",
   "execution_count": 8,
   "metadata": {},
   "outputs": [
    {
     "name": "stdout",
     "output_type": "stream",
     "text": [
      "Yes\n"
     ]
    }
   ],
   "source": [
    "def anagrams_str(str1, str2):\n",
    "    return set(str1) == set(str2) and len(str1) == len(str2)\n",
    "\n",
    "str1 = input(\"str1: \")\n",
    "str2 = input(\"str2 \")\n",
    "if anagrams_str(str1, str2):\n",
    "    print(\"Yes\")\n",
    "else:\n",
    "    print(\"No\")\n",
    "\n",
    "    \n",
    "\n",
    "\n",
    "\n"
   ]
  },
  {
   "cell_type": "markdown",
   "metadata": {},
   "source": [
    "Q3.You want to buy a particular stock at its lowest price. Science the stock market isunpredictable , you steal the price plans of a company for this stock for the next N\n",
    "days.Find the best price you can get to buy this stock to achieve maximum profit.\n",
    "Note:-The initial price of the stock is 0.\n",
    "Input Specification\n",
    "Input:- N_number of days\n",
    "Input:- Array representing change in stock price for the day\n",
    "Output Specification\n",
    "Your function must return the best price to buy the stock at.\n",
    "Example:-\n",
    "Input 1: 5\n",
    "Input 2: -39957,-17136,35466,21820,-26711\n",
    "Output:- -80794"
   ]
  },
  {
   "cell_type": "code",
   "execution_count": 10,
   "metadata": {},
   "outputs": [
    {
     "name": "stdout",
     "output_type": "stream",
     "text": [
      "Best price to buy stock: 75423\n"
     ]
    }
   ],
   "source": [
    "def best_price_to_buy_stock(N, stock_prices):\n",
    "    max_profit = max(stock_prices)\n",
    "    min_price = min(stock_prices)\n",
    "    return max_profit - min_price\n",
    "N = 5\n",
    "stock_prices = [-39957, -17136, 35466, 21820, -26711]\n",
    "print(\"Best price to buy stock to achieve maximum profit:\", best_price_to_buy_stock(N, stock_prices))"
   ]
  },
  {
   "cell_type": "markdown",
   "metadata": {},
   "source": [
    "Q6. You are tasked with a complex matrix operation. You will need to input the size ofthe matrix and then provide the element of the matrix\n",
    "The main matrix must then be divided into two submatrices: one for even-indexed\n",
    "elements and the other for odd-indexed elements\n",
    "Following this,you are required to sort both the even and odd matrices in ascending\n",
    "order\n",
    "Finally , you must calculate and print the sum of the second largest numbers from bothmatrices.\n",
    "Example:-\n",
    "Enter the size of the array:-5\n",
    "Enter the element at the 0th index:3\n",
    "Enter the element at the 1st index:4\n",
    "Enter the element at the 2nd index:1\n",
    "Enter the element at the 3rd index:7\n",
    "Enter the element at the 4th index:9\n",
    "After sorting:\n",
    "Sorted even array: 1 3 9\n",
    "Sorted odd array: 4 7\n",
    "The sum of the second largest numbers from both matrices is:7"
   ]
  },
  {
   "cell_type": "code",
   "execution_count": 11,
   "metadata": {},
   "outputs": [
    {
     "ename": "ValueError",
     "evalue": "invalid literal for int() with base 10: ''",
     "output_type": "error",
     "traceback": [
      "\u001b[1;31m---------------------------------------------------------------------------\u001b[0m",
      "\u001b[1;31mValueError\u001b[0m                                Traceback (most recent call last)",
      "Cell \u001b[1;32mIn[11], line 17\u001b[0m\n\u001b[0;32m     14\u001b[0m     \u001b[38;5;28;01mreturn\u001b[39;00m sum_second_largest\n\u001b[0;32m     16\u001b[0m size \u001b[38;5;241m=\u001b[39m \u001b[38;5;28mint\u001b[39m(\u001b[38;5;28minput\u001b[39m(\u001b[38;5;124m\"\u001b[39m\u001b[38;5;124mEnter the size of the array: \u001b[39m\u001b[38;5;124m\"\u001b[39m))\n\u001b[1;32m---> 17\u001b[0m matrix \u001b[38;5;241m=\u001b[39m \u001b[43m[\u001b[49m\u001b[38;5;28;43mint\u001b[39;49m\u001b[43m(\u001b[49m\u001b[38;5;28;43minput\u001b[39;49m\u001b[43m(\u001b[49m\u001b[38;5;124;43mf\u001b[39;49m\u001b[38;5;124;43m\"\u001b[39;49m\u001b[38;5;124;43mEnter the element at the \u001b[39;49m\u001b[38;5;132;43;01m{\u001b[39;49;00m\u001b[43mi\u001b[49m\u001b[38;5;132;43;01m}\u001b[39;49;00m\u001b[38;5;124;43mth index: \u001b[39;49m\u001b[38;5;124;43m\"\u001b[39;49m\u001b[43m)\u001b[49m\u001b[43m)\u001b[49m\u001b[43m \u001b[49m\u001b[38;5;28;43;01mfor\u001b[39;49;00m\u001b[43m \u001b[49m\u001b[43mi\u001b[49m\u001b[43m \u001b[49m\u001b[38;5;129;43;01min\u001b[39;49;00m\u001b[43m \u001b[49m\u001b[38;5;28;43mrange\u001b[39;49m\u001b[43m(\u001b[49m\u001b[43msize\u001b[49m\u001b[43m)\u001b[49m\u001b[43m]\u001b[49m\n\u001b[0;32m     18\u001b[0m sum_second_largest \u001b[38;5;241m=\u001b[39m complex_matrix_operation(size, matrix)\n\u001b[0;32m     19\u001b[0m \u001b[38;5;28mprint\u001b[39m(\u001b[38;5;124m\"\u001b[39m\u001b[38;5;124mThe sum of the second largest numbers from both matrices is:\u001b[39m\u001b[38;5;124m\"\u001b[39m, sum_second_largest)\n",
      "Cell \u001b[1;32mIn[11], line 17\u001b[0m, in \u001b[0;36m<listcomp>\u001b[1;34m(.0)\u001b[0m\n\u001b[0;32m     14\u001b[0m     \u001b[38;5;28;01mreturn\u001b[39;00m sum_second_largest\n\u001b[0;32m     16\u001b[0m size \u001b[38;5;241m=\u001b[39m \u001b[38;5;28mint\u001b[39m(\u001b[38;5;28minput\u001b[39m(\u001b[38;5;124m\"\u001b[39m\u001b[38;5;124mEnter the size of the array: \u001b[39m\u001b[38;5;124m\"\u001b[39m))\n\u001b[1;32m---> 17\u001b[0m matrix \u001b[38;5;241m=\u001b[39m [\u001b[38;5;28;43mint\u001b[39;49m\u001b[43m(\u001b[49m\u001b[38;5;28;43minput\u001b[39;49m\u001b[43m(\u001b[49m\u001b[38;5;124;43mf\u001b[39;49m\u001b[38;5;124;43m\"\u001b[39;49m\u001b[38;5;124;43mEnter the element at the \u001b[39;49m\u001b[38;5;132;43;01m{\u001b[39;49;00m\u001b[43mi\u001b[49m\u001b[38;5;132;43;01m}\u001b[39;49;00m\u001b[38;5;124;43mth index: \u001b[39;49m\u001b[38;5;124;43m\"\u001b[39;49m\u001b[43m)\u001b[49m\u001b[43m)\u001b[49m \u001b[38;5;28;01mfor\u001b[39;00m i \u001b[38;5;129;01min\u001b[39;00m \u001b[38;5;28mrange\u001b[39m(size)]\n\u001b[0;32m     18\u001b[0m sum_second_largest \u001b[38;5;241m=\u001b[39m complex_matrix_operation(size, matrix)\n\u001b[0;32m     19\u001b[0m \u001b[38;5;28mprint\u001b[39m(\u001b[38;5;124m\"\u001b[39m\u001b[38;5;124mThe sum of the second largest numbers from both matrices is:\u001b[39m\u001b[38;5;124m\"\u001b[39m, sum_second_largest)\n",
      "\u001b[1;31mValueError\u001b[0m: invalid literal for int() with base 10: ''"
     ]
    }
   ],
   "source": [
    "def complex_matrix_operation(size, matrix):\n",
    "    even = []\n",
    "    odd = []\n",
    "    for i in range(size):\n",
    "        if i % 2 == 0:\n",
    "            even.append(matrix[i])\n",
    "        else:\n",
    "            odd.append(matrix[i])\n",
    "    even.sort()\n",
    "    odd.sort()\n",
    "    \n",
    "    sum_second_largest = even[-2] + odd[-2]\n",
    "    \n",
    "    return sum_second_largest\n",
    "\n",
    "size = int(input(\"Enter the size of the array: \"))\n",
    "matrix = [int(input(f\"Enter the element at the {i}th index: \")) for i in range(size)]\n",
    "sum_second_largest = complex_matrix_operation(size, matrix)\n",
    "print(\"The sum of the second largest numbers from both matrices is:\", sum_second_largest)\n"
   ]
  }
 ],
 "metadata": {
  "kernelspec": {
   "display_name": "Python 3",
   "language": "python",
   "name": "python3"
  },
  "language_info": {
   "codemirror_mode": {
    "name": "ipython",
    "version": 3
   },
   "file_extension": ".py",
   "mimetype": "text/x-python",
   "name": "python",
   "nbconvert_exporter": "python",
   "pygments_lexer": "ipython3",
   "version": "3.11.4"
  }
 },
 "nbformat": 4,
 "nbformat_minor": 2
}
