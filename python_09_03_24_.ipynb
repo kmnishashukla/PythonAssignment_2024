{
  "nbformat": 4,
  "nbformat_minor": 0,
  "metadata": {
    "colab": {
      "provenance": [],
      "authorship_tag": "ABX9TyPM+tTM5+/V+X4Exl+Sj3Du",
      "include_colab_link": true
    },
    "kernelspec": {
      "name": "python3",
      "display_name": "Python 3"
    },
    "language_info": {
      "name": "python"
    }
  },
  "cells": [
    {
      "cell_type": "markdown",
      "metadata": {
        "id": "view-in-github",
        "colab_type": "text"
      },
      "source": [
        "<a href=\"https://colab.research.google.com/github/kmnishashukla/PythonAssignment_2024/blob/main/python_09_03_24_.ipynb\" target=\"_parent\"><img src=\"https://colab.research.google.com/assets/colab-badge.svg\" alt=\"Open In Colab\"/></a>"
      ]
    },
    {
      "cell_type": "code",
      "execution_count": null,
      "metadata": {
        "id": "up8R0xqvxOLk"
      },
      "outputs": [],
      "source": []
    },
    {
      "cell_type": "code",
      "source": [
        "# question1\n",
        "# Q1.Vohra went to a movie with his friends in a Wave theater and during break time he bought pizzas, puffs and cool drinks. Consider the following prices : Rs.100/pizza Rs.20/puffs Rs.10/cooldrink Generate a bill for What Vohra has bought.\n",
        "# Input: Enter the no of pizzas bought:10 Enter the no of puffs bought:12 Enter the no of cool drinks bought:5\n",
        "# Output : Bill Details No of pizzas:10 No of puffs:12 No of cooldrinks:5 Total price=1290\n",
        "\n",
        "def generate_bill(pizzas, puffs, drinks):\n",
        "    items = ['pizza', 'puff', 'drink']\n",
        "    prices = [100, 20, 10]\n",
        "\n",
        "    total_price = sum([p * q for p, q in zip([pizzas, puffs, drinks], prices)])\n",
        "\n",
        "    return total_price\n",
        "\n",
        "pizzas = int(input(\"Enter the no of pizzas bought: \"))\n",
        "puffs = int(input(\"Enter the no of puffs bought: \"))\n",
        "drinks = int(input(\"Enter the no of cool drinks bought: \"))\n",
        "\n",
        "total_price = generate_bill(pizzas, puffs, drinks)\n",
        "print(\"Bill Details\")\n",
        "print(\"No of pizzas:\", pizzas)\n",
        "print(\"No of puffs:\", puffs)\n",
        "print(\"No of cooldrinks:\", drinks)\n",
        "print(\"Total price=\", total_price)"
      ],
      "metadata": {
        "colab": {
          "base_uri": "https://localhost:8080/"
        },
        "id": "yD5jox-bxlbP",
        "outputId": "dc4ce3b5-e97b-435e-be08-d7b6b7c2302e"
      },
      "execution_count": 4,
      "outputs": [
        {
          "output_type": "stream",
          "name": "stdout",
          "text": [
            "Enter the no of pizzas bought: 1\n",
            "Enter the no of puffs bought: 2\n",
            "Enter the no of cool drinks bought: 1\n",
            "Bill Details\n",
            "No of pizzas: 1\n",
            "No of puffs: 2\n",
            "No of cooldrinks: 1\n",
            "Total price= 150\n"
          ]
        }
      ]
    },
    {
      "cell_type": "code",
      "source": [
        "# Q2. To calculate the total number of steps taken to climb a certain number of stairs.\n",
        "# The user is prompted to input the total number of stairs (m) and the number of stairs\n",
        "# covered in each step (n).\n",
        "# Example:-\n",
        "# Enter the number of stairs:13\n",
        "# Enter the number of steps:2\n",
        "# Total steps taken:7\n",
        "def total_steps(stairs, steps_per_step):\n",
        "    if stairs <= 0:\n",
        "        return 0\n",
        "    return 1 + total_steps(stairs - steps_per_step, steps_per_step)\n",
        "\n",
        "stairs = int(input(\"Enter the number of stairs: \"))\n",
        "steps_per_step = int(input(\"Enter the number of steps: \"))\n",
        "\n",
        "total = total_steps(stairs, steps_per_step)\n",
        "print(\"Total steps taken:\", total)\n"
      ],
      "metadata": {
        "colab": {
          "base_uri": "https://localhost:8080/"
        },
        "id": "IQkQM6WcyEJu",
        "outputId": "be6959bb-ee29-4172-91a3-ca7cc2ffc0ac"
      },
      "execution_count": 5,
      "outputs": [
        {
          "output_type": "stream",
          "name": "stdout",
          "text": [
            "Enter the number of stairs: 2\n",
            "Enter the number of steps: 1\n",
            "Total steps taken: 2\n"
          ]
        }
      ]
    },
    {
      "cell_type": "markdown",
      "source": [
        "Q8. Given a sequence of numbers. Find all leaders in the sequence. An element is called a leader if it is strictly greater than all elements to its right side. Input arr[] = {23, 22, 24,8 9, 10} Output 10, 24\n"
      ],
      "metadata": {
        "id": "R7XoBDKY9Uoq"
      }
    },
    {
      "cell_type": "code",
      "source": [
        "# questions 8 solution\n",
        "def find_leaders(arr):\n",
        "    return [arr[i] for i in range(len(arr)) if arr[i] == max(arr[i:])]\n",
        "\n",
        "arr = [23, 22, 24, 8, 9, 10]\n",
        "result = find_leaders(arr)\n",
        "print(\"Output:\", result)"
      ],
      "metadata": {
        "colab": {
          "base_uri": "https://localhost:8080/"
        },
        "id": "-n376tPz3wCu",
        "outputId": "6311ec37-47ce-4e7d-f4d2-607ab8bf8da7"
      },
      "execution_count": 6,
      "outputs": [
        {
          "output_type": "stream",
          "name": "stdout",
          "text": [
            "Output: [24, 10]\n"
          ]
        }
      ]
    },
    {
      "cell_type": "markdown",
      "source": [
        "\n",
        "\n",
        "```\n",
        "Q9.Given two strings. Check whether both the strings are anagrams of each other or not.[Anagram strings are those strings that have the same characters, only the order of characters may be different ] Input str1 = 'coding', str2 = 'ingodc' str1 = 'hello' , str2 = 'hoeli' Output \"Yes\" \"No\"\n",
        "\n",
        "```\n",
        "\n"
      ],
      "metadata": {
        "id": "I5uw6rfc9fnz"
      }
    },
    {
      "cell_type": "code",
      "source": [
        "# qusetion 9 solutions\n",
        "def anagrams_str(str1, str2):\n",
        "    return set(str1) == set(str2) and len(str1) == len(str2)\n",
        "\n",
        "str1 = input(\"str1: \")\n",
        "str2 = input(\"str2 \")\n",
        "if anagrams_str(str1, str2):\n",
        "    print(\"Yes\")\n",
        "else:\n",
        "    print(\"No\")"
      ],
      "metadata": {
        "colab": {
          "base_uri": "https://localhost:8080/"
        },
        "id": "CJ00GpDV4u_L",
        "outputId": "9f0129cd-e1cf-454d-a310-6da02ec6afd7"
      },
      "execution_count": 7,
      "outputs": [
        {
          "output_type": "stream",
          "name": "stdout",
          "text": [
            "str1: maya\n",
            "str2 aamy\n",
            "Yes\n"
          ]
        }
      ]
    }
  ]
}