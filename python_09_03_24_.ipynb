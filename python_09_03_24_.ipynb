{
  "nbformat": 4,
  "nbformat_minor": 0,
  "metadata": {
    "colab": {
      "provenance": [],
      "authorship_tag": "ABX9TyN384bhzf7ZrevNeM3OjjVT",
      "include_colab_link": true
    },
    "kernelspec": {
      "name": "python3",
      "display_name": "Python 3"
    },
    "language_info": {
      "name": "python"
    }
  },
  "cells": [
    {
      "cell_type": "markdown",
      "metadata": {
        "id": "view-in-github",
        "colab_type": "text"
      },
      "source": [
        "<a href=\"https://colab.research.google.com/github/kmnishashukla/PythonAssignment_2024/blob/main/python_09_03_24_.ipynb\" target=\"_parent\"><img src=\"https://colab.research.google.com/assets/colab-badge.svg\" alt=\"Open In Colab\"/></a>"
      ]
    },
    {
      "cell_type": "code",
      "execution_count": null,
      "metadata": {
        "id": "up8R0xqvxOLk"
      },
      "outputs": [],
      "source": []
    },
    {
      "cell_type": "code",
      "source": [
        "# question1\n",
        "# Q1.Vohra went to a movie with his friends in a Wave theater and during break time he bought pizzas, puffs and cool drinks. Consider the following prices : Rs.100/pizza Rs.20/puffs Rs.10/cooldrink Generate a bill for What Vohra has bought.\n",
        "# Input: Enter the no of pizzas bought:10 Enter the no of puffs bought:12 Enter the no of cool drinks bought:5\n",
        "# Output : Bill Details No of pizzas:10 No of puffs:12 No of cooldrinks:5 Total price=1290\n",
        "\n",
        "def generate_bill(pizzas, puffs, drinks):\n",
        "    items = ['pizza', 'puff', 'drink']\n",
        "    prices = [100, 20, 10]\n",
        "\n",
        "    total_price = sum([p * q for p, q in zip([pizzas, puffs, drinks], prices)])\n",
        "\n",
        "    return total_price\n",
        "\n",
        "pizzas = int(input(\"Enter the no of pizzas bought: \"))\n",
        "puffs = int(input(\"Enter the no of puffs bought: \"))\n",
        "drinks = int(input(\"Enter the no of cool drinks bought: \"))\n",
        "\n",
        "total_price = generate_bill(pizzas, puffs, drinks)\n",
        "print(\"Bill Details\")\n",
        "print(\"No of pizzas:\", pizzas)\n",
        "print(\"No of puffs:\", puffs)\n",
        "print(\"No of cooldrinks:\", drinks)\n",
        "print(\"Total price=\", total_price)"
      ],
      "metadata": {
        "colab": {
          "base_uri": "https://localhost:8080/"
        },
        "id": "yD5jox-bxlbP",
        "outputId": "dc4ce3b5-e97b-435e-be08-d7b6b7c2302e"
      },
      "execution_count": 4,
      "outputs": [
        {
          "output_type": "stream",
          "name": "stdout",
          "text": [
            "Enter the no of pizzas bought: 1\n",
            "Enter the no of puffs bought: 2\n",
            "Enter the no of cool drinks bought: 1\n",
            "Bill Details\n",
            "No of pizzas: 1\n",
            "No of puffs: 2\n",
            "No of cooldrinks: 1\n",
            "Total price= 150\n"
          ]
        }
      ]
    },
    {
      "cell_type": "code",
      "source": [
        "# Q2. To calculate the total number of steps taken to climb a certain number of stairs.\n",
        "# The user is prompted to input the total number of stairs (m) and the number of stairs\n",
        "# covered in each step (n).\n",
        "# Example:-\n",
        "# Enter the number of stairs:13\n",
        "# Enter the number of steps:2\n",
        "# Total steps taken:7\n",
        "def total_steps(stairs, steps_per_step):\n",
        "    if stairs <= 0:\n",
        "        return 0\n",
        "    return 1 + total_steps(stairs - steps_per_step, steps_per_step)\n",
        "\n",
        "stairs = int(input(\"Enter the number of stairs: \"))\n",
        "steps_per_step = int(input(\"Enter the number of steps: \"))\n",
        "\n",
        "total = total_steps(stairs, steps_per_step)\n",
        "print(\"Total steps taken:\", total)\n"
      ],
      "metadata": {
        "colab": {
          "base_uri": "https://localhost:8080/"
        },
        "id": "IQkQM6WcyEJu",
        "outputId": "be6959bb-ee29-4172-91a3-ca7cc2ffc0ac"
      },
      "execution_count": 5,
      "outputs": [
        {
          "output_type": "stream",
          "name": "stdout",
          "text": [
            "Enter the number of stairs: 2\n",
            "Enter the number of steps: 1\n",
            "Total steps taken: 2\n"
          ]
        }
      ]
    },
    {
      "cell_type": "markdown",
      "source": [
        "Q8. Given a sequence of numbers. Find all leaders in the sequence. An element is called a leader if it is strictly greater than all elements to its right side. Input arr[] = {23, 22, 24,8 9, 10} Output 10, 24\n"
      ],
      "metadata": {
        "id": "R7XoBDKY9Uoq"
      }
    },
    {
      "cell_type": "code",
      "source": [
        "# questions 8 solution\n",
        "def given_leaders_no(arr):\n",
        "    return [arr[i] for i in range(len(arr)) if arr[i] == max(arr[i:])]\n",
        "\n",
        "arr = [23, 22, 24, 8, 9, 10]\n",
        "result = given_leaders_no(arr)\n",
        "print(\"All Leader:\", result)"
      ],
      "metadata": {
        "colab": {
          "base_uri": "https://localhost:8080/"
        },
        "id": "-n376tPz3wCu",
        "outputId": "7de2895d-3149-45ac-edfb-da0034e633a9"
      },
      "execution_count": 8,
      "outputs": [
        {
          "output_type": "stream",
          "name": "stdout",
          "text": [
            "All Leader: [24, 10]\n"
          ]
        }
      ]
    },
    {
      "cell_type": "markdown",
      "source": [
        "\n",
        "\n",
        "```\n",
        "Q9.Given two strings. Check whether both the strings are anagrams of each other or not.[Anagram strings are those strings that have the same characters, only the order of characters may be different ] Input str1 = 'coding', str2 = 'ingodc' str1 = 'hello' , str2 = 'hoeli' Output \"Yes\" \"No\"\n",
        "\n",
        "```\n",
        "\n"
      ],
      "metadata": {
        "id": "I5uw6rfc9fnz"
      }
    },
    {
      "cell_type": "code",
      "source": [
        "# qusetion 9 solutions\n",
        "def anagrams_str(str1, str2):\n",
        "    return set(str1) == set(str2) and len(str1) == len(str2)\n",
        "\n",
        "#str1 = input(\"str1: \")\n",
        "str1 = 'coding'\n",
        "#str2 = input(\"str2 \")\n",
        "str2 = 'ingodc'\n",
        "if anagrams_str(str1, str2):\n",
        "    print(\"Yes\")\n",
        "else:\n",
        "    print(\"No\")"
      ],
      "metadata": {
        "colab": {
          "base_uri": "https://localhost:8080/"
        },
        "id": "CJ00GpDV4u_L",
        "outputId": "19678f2a-2920-438f-a491-d67aea828650"
      },
      "execution_count": 10,
      "outputs": [
        {
          "output_type": "stream",
          "name": "stdout",
          "text": [
            "Yes\n"
          ]
        }
      ]
    },
    {
      "cell_type": "markdown",
      "source": [
        "Q3.You want to buy a particular stock at its lowest price. Science the stock market isunpredictable , you steal the price plans of a company for this stock for the next N\n",
        "days.Find the best price you can get to buy this stock to achieve maximum profit.\n",
        "Note:-The initial price of the stock is 0.\n",
        "Input Specification\n",
        "Input:- N_number of days\n",
        "Input:- Array representing change in stock price for the day\n",
        "Output Specification\n",
        "Your function must return the best price to buy the stock at.\n",
        "Example:-\n",
        "Input 1: 5\n",
        "Input 2: -39957,-17136,35466,21820,-26711\n",
        "Output:- -80794"
      ],
      "metadata": {
        "id": "tqsrQ87TAADu"
      }
    },
    {
      "cell_type": "code",
      "source": [
        "# questions 3 solutions\n",
        "def best_price_to_buy_stock(N, stock_prices):\n",
        "    max_profit = max(stock_prices)\n",
        "    min_price = min(stock_prices)\n",
        "    return max_profit - min_price\n",
        "N = 5\n",
        "stock_prices = [-39957, -17136, 35466, 21820, -26711]\n",
        "print(\"Best price to buy stock to achieve maximum profit:\", best_price_to_buy_stock(N, stock_prices))"
      ],
      "metadata": {
        "colab": {
          "base_uri": "https://localhost:8080/"
        },
        "id": "hyuxdOPvAB0p",
        "outputId": "79fae515-b745-4480-ca7f-774f98355de5"
      },
      "execution_count": 9,
      "outputs": [
        {
          "output_type": "stream",
          "name": "stdout",
          "text": [
            "Best price to buy stock to achieve maximum profit: 75423\n"
          ]
        }
      ]
    },
    {
      "cell_type": "markdown",
      "source": [
        "Q6. You are tasked with a complex matrix operation. You will need to input the size ofthe matrix and then provide the element of the matrix\n",
        "The main matrix must then be divided into two submatrices: one for even-indexed\n",
        "elements and the other for odd-indexed elements\n",
        "Following this,you are required to sort both the even and odd matrices in ascending\n",
        "order\n",
        "Finally , you must calculate and print the sum of the second largest numbers from bothmatrices.\n",
        "Example:-\n",
        "Enter the size of the array:-5\n",
        "Enter the element at the 0th index:3\n",
        "Enter the element at the 1st index:4\n",
        "Enter the element at the 2nd index:1\n",
        "Enter the element at the 3rd index:7\n",
        "Enter the element at the 4th index:9\n",
        "After sorting:\n",
        "Sorted even array: 1 3 9\n",
        "Sorted odd array: 4 7\n",
        "The sum of the second largest numbers from both matrices is:7"
      ],
      "metadata": {
        "id": "qBNTA36TCp_F"
      }
    },
    {
      "cell_type": "code",
      "source": [
        "# questions 6 solutions\n",
        "\n"
      ],
      "metadata": {
        "id": "5Gs9Ky0rC1Z6"
      },
      "execution_count": null,
      "outputs": []
    }
  ]
}